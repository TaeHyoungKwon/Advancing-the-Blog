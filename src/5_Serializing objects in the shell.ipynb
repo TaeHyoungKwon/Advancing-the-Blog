{
 "cells": [
  {
   "cell_type": "code",
   "execution_count": 1,
   "metadata": {},
   "outputs": [],
   "source": [
    "MYPROJECT = '/home/kth/workspace/python/django/Advancing-the-Blog/src'\n",
    "import os, sys\n",
    "sys.path.insert(0, MYPROJECT)\n",
    "os.environ.setdefault(\"DJANGO_SETTINGS_MODULE\", \"local_settings.py\")\n",
    "import django\n",
    "django.setup()"
   ]
  },
  {
   "cell_type": "code",
   "execution_count": 5,
   "metadata": {},
   "outputs": [],
   "source": [
    "from posts.models import Post\n",
    "from posts.api.serializers import PostSerializer"
   ]
  },
  {
   "cell_type": "code",
   "execution_count": 8,
   "metadata": {},
   "outputs": [
    {
     "name": "stdout",
     "output_type": "stream",
     "text": [
      "KwontaeHyoung2222\n"
     ]
    }
   ],
   "source": [
    "obj = Post.objects.first()\n",
    "print(obj)"
   ]
  },
  {
   "cell_type": "code",
   "execution_count": 10,
   "metadata": {},
   "outputs": [],
   "source": [
    "obj_data = PostSerializer(obj)"
   ]
  },
  {
   "cell_type": "code",
   "execution_count": 11,
   "metadata": {},
   "outputs": [
    {
     "name": "stdout",
     "output_type": "stream",
     "text": [
      "{'content': '----------------\\r\\nHaHaHa2\\r\\n2\\r\\nGood!2', 'publish': '2017-01-01', 'title': 'KwontaeHyoung2222', 'slug': 'kwontaehyoung2222'}\n"
     ]
    }
   ],
   "source": [
    "print(obj_data.data)"
   ]
  },
  {
   "cell_type": "code",
   "execution_count": 12,
   "metadata": {},
   "outputs": [
    {
     "data": {
      "text/plain": [
       "'----------------\\r\\nHaHaHa2\\r\\n2\\r\\nGood!2'"
      ]
     },
     "execution_count": 12,
     "metadata": {},
     "output_type": "execute_result"
    }
   ],
   "source": [
    "obj_data.data['content']"
   ]
  },
  {
   "cell_type": "code",
   "execution_count": 23,
   "metadata": {},
   "outputs": [
    {
     "name": "stdout",
     "output_type": "stream",
     "text": [
      "{'content': 'New content', 'publish': '2016-12-12', 'title': 'Yeahahah ', 'slug': 'yeah-budy'}\n"
     ]
    }
   ],
   "source": [
    "data = {\n",
    "    \"title\" : \"Yeahahah \",\n",
    "    \"content\" : \"New content\",\n",
    "    'publish' : \"2016-12-12\",\n",
    "    'slug' : 'yeah-budy'\n",
    "}\n",
    "\n",
    "new_item = PostSerializer(data=data)\n",
    "\n",
    "print(new_item.initial_data)"
   ]
  },
  {
   "cell_type": "code",
   "execution_count": 24,
   "metadata": {},
   "outputs": [],
   "source": [
    "new_item = PostSerializer(data=data)\n",
    "if new_item.is_valid():\n",
    "    new_item.save()\n",
    "else:\n",
    "    print(new_item.errors)"
   ]
  },
  {
   "cell_type": "code",
   "execution_count": 25,
   "metadata": {},
   "outputs": [
    {
     "data": {
      "text/plain": [
       "ReturnDict([('title', 'Yeahahah'),\n",
       "            ('slug', 'yeah-budy'),\n",
       "            ('content', 'New content'),\n",
       "            ('publish', '2016-12-12')])"
      ]
     },
     "execution_count": 25,
     "metadata": {},
     "output_type": "execute_result"
    }
   ],
   "source": [
    "new_item.data"
   ]
  },
  {
   "cell_type": "code",
   "execution_count": null,
   "metadata": {},
   "outputs": [],
   "source": []
  }
 ],
 "metadata": {
  "kernelspec": {
   "display_name": "Python 3",
   "language": "python",
   "name": "python3"
  },
  "language_info": {
   "codemirror_mode": {
    "name": "ipython",
    "version": 3
   },
   "file_extension": ".py",
   "mimetype": "text/x-python",
   "name": "python",
   "nbconvert_exporter": "python",
   "pygments_lexer": "ipython3",
   "version": "3.5.2"
  }
 },
 "nbformat": 4,
 "nbformat_minor": 2
}
